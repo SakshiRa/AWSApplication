{
  "cells": [
    {
      "cell_type": "markdown",
      "metadata": {
        "id": "view-in-github",
        "colab_type": "text"
      },
      "source": [
        "<a href=\"https://colab.research.google.com/github/SakshiRa/AWSApplication/blob/master/Session6/MONAI_Tutorial.ipynb\" target=\"_parent\"><img src=\"https://colab.research.google.com/assets/colab-badge.svg\" alt=\"Open In Colab\"/></a>"
      ]
    },
    {
      "cell_type": "markdown",
      "id": "a65791ac-2ab8-42a0-9aa5-886c68a0b6c8",
      "metadata": {
        "id": "a65791ac-2ab8-42a0-9aa5-886c68a0b6c8"
      },
      "source": [
        "# 🧠 TBI Dataset - Brain 3D Segmentation with MONAI\n",
        "\n",
        "This tutorial demonstrates how to integrate **[MONAI](https://monai.io/)** into an existing PyTorch-based medical deep learning pipeline for **3D brain segmentation** using CT scans from the **TBI dataset**.\n",
        "\n",
        "## ✨ Key Features\n",
        "\n",
        "- 🔄 Transforms for dictionary-format data  \n",
        "- 🧾 Load NIfTI images with metadata  \n",
        "- ➕ Add channel dimension if missing  \n",
        "- 📉 Scale intensity to expected range  \n",
        "- ✂️ Balanced cropping based on positive/negative label ratio  \n",
        "- ⚡ Accelerated training using cached I/O and transforms  \n",
        "- 🧠 3D U-Net model with Dice loss and Mean Dice metric  \n",
        "- 🧪 Sliding window inference for 3D volumes  \n",
        "- 🎲 Deterministic training for reproducibility  \n",
        "\n",
        "## 📦 Dataset Overview\n",
        "\n",
        "- 🎯 **Target:** Brain  \n",
        "- 🖥️ **Modality:** CT  \n",
        "- 📊 **Dataset Size:** 58 3D volumes (45 Training + 13 Testing)  \n",
        "- 🏥 **Source:** ProTECT III dataset   \n",
        "\n",
        "📥 **Download:**"
      ]
    },
    {
      "cell_type": "markdown",
      "id": "7dd3008c-7d44-4749-bd8d-f8eea372afdd",
      "metadata": {
        "id": "7dd3008c-7d44-4749-bd8d-f8eea372afdd"
      },
      "source": [
        "## Setup environment"
      ]
    },
    {
      "cell_type": "code",
      "execution_count": 3,
      "id": "dfb16504-30ed-4d54-85cd-9191a60814c0",
      "metadata": {
        "colab": {
          "base_uri": "https://localhost:8080/"
        },
        "id": "dfb16504-30ed-4d54-85cd-9191a60814c0",
        "outputId": "ee7524b6-53c5-4b40-81ad-c73878552b36"
      },
      "outputs": [
        {
          "output_type": "stream",
          "name": "stdout",
          "text": [
            "Traceback (most recent call last):\n",
            "  File \"<string>\", line 1, in <module>\n",
            "ModuleNotFoundError: No module named 'monai'\n",
            "\u001b[2K   \u001b[90m━━━━━━━━━━━━━━━━━━━━━━━━━━━━━━━━━━━━━━━━\u001b[0m \u001b[32m266.5/266.5 kB\u001b[0m \u001b[31m6.8 MB/s\u001b[0m eta \u001b[36m0:00:00\u001b[0m\n",
            "\u001b[2K   \u001b[90m━━━━━━━━━━━━━━━━━━━━━━━━━━━━━━━━━━━━━━━━\u001b[0m \u001b[32m363.4/363.4 MB\u001b[0m \u001b[31m4.5 MB/s\u001b[0m eta \u001b[36m0:00:00\u001b[0m\n",
            "\u001b[2K   \u001b[90m━━━━━━━━━━━━━━━━━━━━━━━━━━━━━━━━━━━━━━━━\u001b[0m \u001b[32m13.8/13.8 MB\u001b[0m \u001b[31m69.0 MB/s\u001b[0m eta \u001b[36m0:00:00\u001b[0m\n",
            "\u001b[2K   \u001b[90m━━━━━━━━━━━━━━━━━━━━━━━━━━━━━━━━━━━━━━━━\u001b[0m \u001b[32m24.6/24.6 MB\u001b[0m \u001b[31m36.5 MB/s\u001b[0m eta \u001b[36m0:00:00\u001b[0m\n",
            "\u001b[2K   \u001b[90m━━━━━━━━━━━━━━━━━━━━━━━━━━━━━━━━━━━━━━━━\u001b[0m \u001b[32m883.7/883.7 kB\u001b[0m \u001b[31m39.9 MB/s\u001b[0m eta \u001b[36m0:00:00\u001b[0m\n",
            "\u001b[2K   \u001b[90m━━━━━━━━━━━━━━━━━━━━━━━━━━━━━━━━━━━━━━━━\u001b[0m \u001b[32m664.8/664.8 MB\u001b[0m \u001b[31m2.9 MB/s\u001b[0m eta \u001b[36m0:00:00\u001b[0m\n",
            "\u001b[2K   \u001b[90m━━━━━━━━━━━━━━━━━━━━━━━━━━━━━━━━━━━━━━━━\u001b[0m \u001b[32m211.5/211.5 MB\u001b[0m \u001b[31m5.4 MB/s\u001b[0m eta \u001b[36m0:00:00\u001b[0m\n",
            "\u001b[2K   \u001b[90m━━━━━━━━━━━━━━━━━━━━━━━━━━━━━━━━━━━━━━━━\u001b[0m \u001b[32m56.3/56.3 MB\u001b[0m \u001b[31m15.1 MB/s\u001b[0m eta \u001b[36m0:00:00\u001b[0m\n",
            "\u001b[2K   \u001b[90m━━━━━━━━━━━━━━━━━━━━━━━━━━━━━━━━━━━━━━━━\u001b[0m \u001b[32m127.9/127.9 MB\u001b[0m \u001b[31m7.6 MB/s\u001b[0m eta \u001b[36m0:00:00\u001b[0m\n",
            "\u001b[2K   \u001b[90m━━━━━━━━━━━━━━━━━━━━━━━━━━━━━━━━━━━━━━━━\u001b[0m \u001b[32m207.5/207.5 MB\u001b[0m \u001b[31m5.6 MB/s\u001b[0m eta \u001b[36m0:00:00\u001b[0m\n",
            "\u001b[2K   \u001b[90m━━━━━━━━━━━━━━━━━━━━━━━━━━━━━━━━━━━━━━━━\u001b[0m \u001b[32m21.1/21.1 MB\u001b[0m \u001b[31m106.8 MB/s\u001b[0m eta \u001b[36m0:00:00\u001b[0m\n",
            "\u001b[2K   \u001b[90m━━━━━━━━━━━━━━━━━━━━━━━━━━━━━━━━━━━━━━━━\u001b[0m \u001b[32m2.7/2.7 MB\u001b[0m \u001b[31m87.6 MB/s\u001b[0m eta \u001b[36m0:00:00\u001b[0m\n",
            "\u001b[?25h"
          ]
        }
      ],
      "source": [
        "!python -c \"import monai\" || pip install -q \"monai-weekly[gdown, nibabel, tqdm, ignite]\"\n",
        "!python -c \"import matplotlib\" || pip install -q matplotlib\n",
        "%matplotlib inline"
      ]
    },
    {
      "cell_type": "markdown",
      "id": "e5fa93c6-b6d4-4bef-bdda-84b86656aabb",
      "metadata": {
        "id": "e5fa93c6-b6d4-4bef-bdda-84b86656aabb"
      },
      "source": [
        "## Setup imports"
      ]
    },
    {
      "cell_type": "code",
      "execution_count": 4,
      "id": "0ef0fb2e-d7bd-46eb-8595-9c5e52194e72",
      "metadata": {
        "colab": {
          "base_uri": "https://localhost:8080/"
        },
        "id": "0ef0fb2e-d7bd-46eb-8595-9c5e52194e72",
        "outputId": "fe2f71fa-66ed-49ce-dd98-27b3ffd67da4"
      },
      "outputs": [
        {
          "output_type": "stream",
          "name": "stdout",
          "text": [
            "MONAI version: 1.5.dev2519\n",
            "Numpy version: 2.0.2\n",
            "Pytorch version: 2.6.0+cu124\n",
            "MONAI flags: HAS_EXT = False, USE_COMPILED = False, USE_META_DICT = False\n",
            "MONAI rev id: 552815d9e48a40cf72c7c718034df7984f5d14dd\n",
            "MONAI __file__: /usr/local/lib/python3.11/dist-packages/monai/__init__.py\n",
            "\n",
            "Optional dependencies:\n",
            "Pytorch Ignite version: 0.4.11\n",
            "ITK version: NOT INSTALLED or UNKNOWN VERSION.\n",
            "Nibabel version: 5.3.2\n",
            "scikit-image version: 0.25.2\n",
            "scipy version: 1.15.2\n",
            "Pillow version: 11.2.1\n",
            "Tensorboard version: 2.18.0\n",
            "gdown version: 5.2.0\n",
            "TorchVision version: 0.21.0+cu124\n",
            "tqdm version: 4.67.1\n",
            "lmdb version: NOT INSTALLED or UNKNOWN VERSION.\n",
            "psutil version: 5.9.5\n",
            "pandas version: 2.2.2\n",
            "einops version: 0.8.1\n",
            "transformers version: 4.51.3\n",
            "mlflow version: NOT INSTALLED or UNKNOWN VERSION.\n",
            "pynrrd version: NOT INSTALLED or UNKNOWN VERSION.\n",
            "clearml version: NOT INSTALLED or UNKNOWN VERSION.\n",
            "\n",
            "For details about installing the optional dependencies, please visit:\n",
            "    https://docs.monai.io/en/latest/installation.html#installing-the-recommended-dependencies\n",
            "\n"
          ]
        }
      ],
      "source": [
        "from monai.utils import first, set_determinism\n",
        "from monai.networks.utils import one_hot\n",
        "from monai.transforms import (\n",
        "    AsDiscrete,\n",
        "    AsDiscreted,\n",
        "    EnsureChannelFirstd,\n",
        "    Compose,\n",
        "    CropForegroundd,\n",
        "    LoadImaged,\n",
        "    Orientationd,\n",
        "    RandCropByPosNegLabeld,\n",
        "    SaveImaged,\n",
        "    ScaleIntensityRanged,\n",
        "    Spacingd,\n",
        "    Invertd,\n",
        "    EnsureChannelFirstd,\n",
        "    ToTensord,\n",
        "    RandCropByLabelClassesd\n",
        ")\n",
        "from monai.handlers.utils import from_engine\n",
        "from monai.networks.nets import UNet\n",
        "from monai.networks.layers import Norm\n",
        "from monai.metrics import DiceMetric\n",
        "from monai.losses import DiceLoss\n",
        "from monai.inferers import sliding_window_inference\n",
        "from monai.data import CacheDataset, DataLoader, Dataset, decollate_batch\n",
        "from monai.config import print_config\n",
        "from monai.apps import download_and_extract\n",
        "from monai.transforms import Resized\n",
        "import torch\n",
        "import matplotlib.pyplot as plt\n",
        "import tempfile\n",
        "import shutil\n",
        "import os\n",
        "import glob\n",
        "import nibabel as nib\n",
        "import numpy as np\n",
        "\n",
        "print_config()"
      ]
    },
    {
      "cell_type": "markdown",
      "source": [
        "## Setup data directory\n",
        "\n",
        "You can specify a directory with the `MONAI_DATA_DIRECTORY` environment variable.  \n",
        "This allows you to save results and reuse downloads.  \n",
        "If not specified a temporary directory will be used."
      ],
      "metadata": {
        "id": "_K_h6G77a0hU"
      },
      "id": "_K_h6G77a0hU"
    },
    {
      "cell_type": "code",
      "source": [
        "directory = os.environ.get(\"MONAI_DATA_DIRECTORY\")\n",
        "if directory is not None:\n",
        "    os.makedirs(directory, exist_ok=True)\n",
        "root_dir = tempfile.mkdtemp() if directory is None else directory\n",
        "print(root_dir)"
      ],
      "metadata": {
        "colab": {
          "base_uri": "https://localhost:8080/"
        },
        "id": "lMIfyLMYa2hp",
        "outputId": "d2636546-fac3-4b59-f5cd-5ca95b6095a5"
      },
      "id": "lMIfyLMYa2hp",
      "execution_count": 5,
      "outputs": [
        {
          "output_type": "stream",
          "name": "stdout",
          "text": [
            "/tmp/tmpgi_172xc\n"
          ]
        }
      ]
    },
    {
      "cell_type": "markdown",
      "id": "f6f7447a-dc03-427b-b545-55e21c09c9c3",
      "metadata": {
        "id": "f6f7447a-dc03-427b-b545-55e21c09c9c3"
      },
      "source": [
        "## Download dataset\n",
        "\n",
        "Downloads and extracts the dataset.\n",
        "The dataset comes from"
      ]
    },
    {
      "cell_type": "code",
      "source": [
        "resource = \"\"\n",
        "\n",
        "compressed_file = os.path.join(root_dir, \"Task09_Spleen.tar\")\n",
        "data_dir = os.path.join(root_dir, \"Task09_Spleen\")\n",
        "if not os.path.exists(data_dir):\n",
        "    download_and_extract(resource, compressed_file, root_dir)"
      ],
      "metadata": {
        "id": "3iJmH9nccTBq"
      },
      "id": "3iJmH9nccTBq",
      "execution_count": null,
      "outputs": []
    },
    {
      "cell_type": "code",
      "source": [],
      "metadata": {
        "id": "-Bh7F0IlcYAs"
      },
      "id": "-Bh7F0IlcYAs",
      "execution_count": null,
      "outputs": []
    },
    {
      "cell_type": "markdown",
      "id": "fb93c38f-552f-4310-a4c5-ac2d2599a41f",
      "metadata": {
        "id": "fb93c38f-552f-4310-a4c5-ac2d2599a41f"
      },
      "source": [
        "## Set TBI dataset path"
      ]
    },
    {
      "cell_type": "code",
      "execution_count": null,
      "id": "1acc7670-ac04-436d-b17e-453a5fcbeb5c",
      "metadata": {
        "id": "1acc7670-ac04-436d-b17e-453a5fcbeb5c",
        "outputId": "859cf26b-5e48-4be2-b248-dc96e0ae3bbc"
      },
      "outputs": [
        {
          "name": "stdout",
          "output_type": "stream",
          "text": [
            "45\n",
            "20\n"
          ]
        }
      ],
      "source": [
        "#data_dir = os.path.join(\"/path/where/you/downloaded/dataset/\")\n",
        "\n",
        "train_images = sorted(glob.glob(os.path.join(data_dir, \"cleaned_images\", \"*.nii\")))\n",
        "train_labels = sorted(glob.glob(os.path.join(data_dir, \"cleaned_labels\", \"*.nii.gz\")))\n",
        "data_dicts = [{\"image\": image_name, \"label\": label_name} for image_name, label_name in zip(train_images, train_labels)]\n",
        "train_files, val_files = data_dicts[:-20], data_dicts[-20:]\n",
        "\n",
        "print(len(train_files))\n",
        "print(len(val_files))"
      ]
    },
    {
      "cell_type": "markdown",
      "id": "f3ec45ac-cf8b-426c-a6a0-e76bf866f42f",
      "metadata": {
        "id": "f3ec45ac-cf8b-426c-a6a0-e76bf866f42f"
      },
      "source": [
        "## Check dataset dimensions"
      ]
    },
    {
      "cell_type": "code",
      "execution_count": null,
      "id": "12319b83-7ab6-4fe4-8577-d5bb81ee71bd",
      "metadata": {
        "id": "12319b83-7ab6-4fe4-8577-d5bb81ee71bd"
      },
      "outputs": [],
      "source": [
        "for i in train_images:\n",
        "    nifti_image = nib.load(i)\n",
        "    data = nifti_image.get_fdata()\n",
        "    print(f\"Image shape: {data.shape}\")\n",
        "    num_channels = data.shape[3] if data.ndim == 4 else 1\n",
        "    print(f\"Number of channels: {num_channels}\")\n",
        "\n",
        "for i in train_labels:\n",
        "    nifti_image = nib.load(i)\n",
        "    data = nifti_image.get_fdata()\n",
        "    print(f\"Image shape: {data.shape}\")\n",
        "    num_channels = data.shape[3] if data.ndim == 4 else 1\n",
        "    print(f\"Number of channels: {num_channels}\")"
      ]
    },
    {
      "cell_type": "markdown",
      "id": "422aeaac-61aa-43f2-abb2-6626f893de14",
      "metadata": {
        "id": "422aeaac-61aa-43f2-abb2-6626f893de14"
      },
      "source": [
        "## Check label classes"
      ]
    },
    {
      "cell_type": "code",
      "execution_count": null,
      "id": "abab7e52-5f52-4c7d-8665-4a2181760012",
      "metadata": {
        "id": "abab7e52-5f52-4c7d-8665-4a2181760012",
        "outputId": "21cb308e-5486-40d4-9890-77287baead49"
      },
      "outputs": [
        {
          "name": "stdout",
          "output_type": "stream",
          "text": [
            "Unique classes: [0. 1.]\n",
            "Number of classes: 2\n"
          ]
        }
      ],
      "source": [
        "# Load the NIfTI image\n",
        "nifti_image = nib.load(\"/path/to/your/label/\")\n",
        "\n",
        "# Get the data array\n",
        "data = nifti_image.get_fdata()\n",
        "\n",
        "# Find unique values in the image\n",
        "unique_classes = np.unique(data)\n",
        "\n",
        "# Count the number of unique values\n",
        "num_classes = len(unique_classes)\n",
        "print(f\"Unique classes: {unique_classes}\")\n",
        "print(f\"Number of classes: {num_classes}\")"
      ]
    },
    {
      "cell_type": "markdown",
      "id": "ffbe91ce-bca2-47ac-843b-8dfcab308477",
      "metadata": {
        "id": "ffbe91ce-bca2-47ac-843b-8dfcab308477"
      },
      "source": [
        "## Check Hounsfield Units (HU)"
      ]
    },
    {
      "cell_type": "code",
      "execution_count": null,
      "id": "d7f0ed4d-9955-4477-aefd-a435c5be5e0f",
      "metadata": {
        "id": "d7f0ed4d-9955-4477-aefd-a435c5be5e0f",
        "outputId": "fc33e2e6-c76e-4645-f740-4b3df6785620"
      },
      "outputs": [
        {
          "name": "stdout",
          "output_type": "stream",
          "text": [
            "Mean HU: -17.7504\n",
            "Median HU: -11.0\n",
            "Max HU: 2071.0\n",
            "Min HU: -957.0\n"
          ]
        }
      ],
      "source": [
        "# Load the NIfTI file\n",
        "nifti_file = '/path/to/your/image/'\n",
        "img = nib.load(nifti_file)\n",
        "ct_data = img.get_fdata()  # This is a 3D numpy array with HU values\n",
        "\n",
        "# Example: Selecting a slice and ROI within the slice\n",
        "slice_idx = 38  # Choose the slice index\n",
        "slice_data = ct_data[:, :, slice_idx]\n",
        "\n",
        "# Define a mask or region in your slice_data to analyze\n",
        "roi = slice_data[100:150, 100:150]  # A 50x50 ROI\n",
        "\n",
        "mean_hu = np.mean(roi)\n",
        "median_hu = np.median(roi)\n",
        "max_hu = np.max(roi)\n",
        "min_hu = np.min(roi)\n",
        "\n",
        "print(f\"Mean HU: {mean_hu}\")\n",
        "print(f\"Median HU: {median_hu}\")\n",
        "print(f\"Max HU: {max_hu}\")\n",
        "print(f\"Min HU: {min_hu}\")"
      ]
    },
    {
      "cell_type": "markdown",
      "id": "992abe10-d7eb-4968-add4-dc40ffb878db",
      "metadata": {
        "id": "992abe10-d7eb-4968-add4-dc40ffb878db"
      },
      "source": [
        "## Set deterministic training for reproducibility"
      ]
    },
    {
      "cell_type": "code",
      "execution_count": null,
      "id": "66d553fe-790a-4038-bbfa-2c79282a6c8c",
      "metadata": {
        "id": "66d553fe-790a-4038-bbfa-2c79282a6c8c"
      },
      "outputs": [],
      "source": [
        "set_determinism(seed=0)"
      ]
    },
    {
      "cell_type": "markdown",
      "id": "5341ec94-7f37-4667-807a-4a4eca413804",
      "metadata": {
        "id": "5341ec94-7f37-4667-807a-4a4eca413804"
      },
      "source": [
        "## Setup transforms for training and validation\n",
        "\n",
        "\n",
        "Here we use several transforms to augment the dataset:\n",
        "1. `LoadImaged` loads the brain CT images and labels from NIfTI format files.\n",
        "1. `EnsureChannelFirstd` ensures the original data to construct \"channel first\" shape.\n",
        "1. `Orientationd` unifies the data orientation based on the affine matrix.\n",
        "1. `Spacingd` adjusts the spacing by `pixdim=(1.5, 1.5, 2.0)` based on the affine matrix.\n",
        "1. `ScaleIntensityRanged` extracts intensity range [0.0, 100.0] and scales to [0, 1].\n",
        "1. `CropForegroundd` removes all zero borders to focus on the valid body area of the images and labels.\n",
        "1. `RandCropByLabelClassesd` Crop random fixed sized regions with the center being a class based on the specified ratios of every class.  \n",
        "The image centers of negative samples must be in valid body area.\n",
        "1. `ToTensord` Converts items in a dictionary from numpy.ndarray to torch.Tensor"
      ]
    },
    {
      "cell_type": "code",
      "execution_count": null,
      "id": "a48961d6-70bf-4318-b54c-a6fd7e9fae3c",
      "metadata": {
        "id": "a48961d6-70bf-4318-b54c-a6fd7e9fae3c",
        "outputId": "38db4c84-7690-47c8-e95f-ad6ad19ef640"
      },
      "outputs": [
        {
          "name": "stderr",
          "output_type": "stream",
          "text": [
            "/opt/anaconda3/lib/python3.12/site-packages/monai/utils/deprecate_utils.py:321: FutureWarning: monai.transforms.croppad.dictionary CropForegroundd.__init__:allow_smaller: Current default value of argument `allow_smaller=True` has been deprecated since version 1.2. It will be changed to `allow_smaller=False` in version 1.5.\n",
            "  warn_deprecated(argname, msg, warning_category)\n"
          ]
        }
      ],
      "source": [
        "train_transforms = Compose(\n",
        "    [\n",
        "        LoadImaged(keys=[\"image\", \"label\"]),\n",
        "        EnsureChannelFirstd(keys=[\"image\", \"label\"]),\n",
        "        ScaleIntensityRanged(\n",
        "            keys=[\"image\"],\n",
        "            a_min=0.0,\n",
        "            a_max=100.0,\n",
        "            b_min=0.0,\n",
        "            b_max=1.0,\n",
        "            clip=True,\n",
        "        ),\n",
        "        CropForegroundd(keys=[\"image\", \"label\"], source_key=\"image\"),\n",
        "        Orientationd(keys=[\"image\", \"label\"], axcodes=\"RAS\"),\n",
        "        Spacingd(keys=[\"image\", \"label\"], pixdim=(1.5, 1.5, 2.0), mode=(\"bilinear\", \"nearest\")),\n",
        "        RandCropByLabelClassesd(\n",
        "            keys=[\"image\", \"label\"],\n",
        "            label_key=\"label\",\n",
        "            spatial_size=(128, 128, 96),\n",
        "            num_classes=2,\n",
        "            ratios=[0.8, 0.2],  # focus 80% on foreground class 1\n",
        "            num_samples=4,\n",
        "            image_key=\"image\",\n",
        "            image_threshold=0.05,  # or adjust based on intensity stats\n",
        "            allow_smaller=True,\n",
        "        ),\n",
        "        ToTensord(keys=['image', 'label'])\n",
        "    ]\n",
        ")\n",
        "val_transforms = Compose(\n",
        "    [\n",
        "        LoadImaged(keys=[\"image\", \"label\"]),\n",
        "        EnsureChannelFirstd(keys=[\"image\", \"label\"]),\n",
        "        ScaleIntensityRanged(\n",
        "            keys=[\"image\"],\n",
        "            a_min=0.0,\n",
        "            a_max=100.0,\n",
        "            b_min=0.0,\n",
        "            b_max=1.0,\n",
        "            clip=True,\n",
        "        ),\n",
        "        CropForegroundd(keys=[\"image\", \"label\"], source_key=\"image\"),\n",
        "        Orientationd(keys=[\"image\", \"label\"], axcodes=\"RAS\"),\n",
        "        Spacingd(keys=[\"image\", \"label\"], pixdim=(1.5, 1.5, 2.0), mode=(\"bilinear\", \"nearest\")),\n",
        "        ToTensord(keys=['image', 'label']),\n",
        "    ]\n",
        ")"
      ]
    },
    {
      "cell_type": "markdown",
      "id": "50c565cc-2cab-4e49-a281-fc8309517496",
      "metadata": {
        "id": "50c565cc-2cab-4e49-a281-fc8309517496"
      },
      "source": [
        "## Plot Image and Label"
      ]
    },
    {
      "cell_type": "code",
      "execution_count": null,
      "id": "cae8c301-402d-46bc-861a-dac9a4ce5174",
      "metadata": {
        "id": "cae8c301-402d-46bc-861a-dac9a4ce5174",
        "outputId": "b7682e4a-3cf0-4489-8d8f-c13e142431bb"
      },
      "outputs": [
        {
          "name": "stdout",
          "output_type": "stream",
          "text": [
            "Image shape: torch.Size([144, 154, 77]), Label shape: torch.Size([144, 154, 77])\n"
          ]
        },
        {
          "data": {
            "image/png": "[encoded data removed]",
            "text/plain": [
              "<Figure size 1200x600 with 2 Axes>"
            ]
          },
          "metadata": {},
          "output_type": "display_data"
        }
      ],
      "source": [
        "# Choose a different index\n",
        "index = 17  # change this to pick another sample\n",
        "\n",
        "# Get the item from the val_files list\n",
        "sample = val_files[index]\n",
        "\n",
        "# Apply the validation transform\n",
        "sample_transformed = val_transforms(sample)\n",
        "\n",
        "# Extract image and label (assuming shape [C, H, W, D])\n",
        "image = sample_transformed[\"image\"][0]  # remove channel dim\n",
        "label = sample_transformed[\"label\"][0]\n",
        "\n",
        "# Check shapes\n",
        "print(f\"Image shape: {image.shape}, Label shape: {label.shape}\")\n",
        "\n",
        "# Plot a specific slice\n",
        "slice_idx = 38  # Change slice as needed\n",
        "plt.figure(\"check\", (12, 6))\n",
        "plt.subplot(1, 2, 1)\n",
        "plt.title(\"image\")\n",
        "plt.imshow(image[:, :, slice_idx], cmap=\"gray\")\n",
        "plt.subplot(1, 2, 2)\n",
        "plt.title(\"label\")\n",
        "plt.imshow(label[:, :, slice_idx])\n",
        "plt.show()"
      ]
    },
    {
      "cell_type": "markdown",
      "id": "a9f3fee9-ee97-4a8e-b892-3c39e51fdb18",
      "metadata": {
        "id": "a9f3fee9-ee97-4a8e-b892-3c39e51fdb18"
      },
      "source": [
        "## Define CacheDataset and DataLoader for training and validation\n",
        "\n",
        "Here we use CacheDataset to accelerate training and validation process, it's 10x faster than the regular Dataset.  \n",
        "To achieve best performance, set `cache_rate=1.0` to cache all the data, if memory is not enough, set lower value.  \n",
        "Users can also set `cache_num` instead of `cache_rate`, will use the minimum value of the 2 settings.  \n",
        "And set `num_workers` to enable multi-threads during caching.  \n",
        "If want to to try the regular Dataset, just change to use the commented code below."
      ]
    },
    {
      "cell_type": "code",
      "execution_count": null,
      "id": "26600048-b4b2-4579-9ecd-542de107140c",
      "metadata": {
        "id": "26600048-b4b2-4579-9ecd-542de107140c",
        "outputId": "6a790643-8dfe-43e1-c221-847de07d5af5"
      },
      "outputs": [
        {
          "name": "stderr",
          "output_type": "stream",
          "text": [
            "Loading dataset: 100%|███████████████████████████████████████████| 45/45 [00:04<00:00, 10.44it/s]\n",
            "Loading dataset: 100%|███████████████████████████████████████████| 20/20 [00:02<00:00,  9.77it/s]\n"
          ]
        }
      ],
      "source": [
        "train_ds = CacheDataset(data=train_files, transform=train_transforms, cache_rate=1.0, num_workers=4)\n",
        "#train_ds = Dataset(data=train_files, transform=train_transforms)\n",
        "\n",
        "# use batch_size=2 to load images and use RandCropByPosNegLabeld\n",
        "# to generate 2 x 4 images for network training\n",
        "train_loader = DataLoader(train_ds, batch_size=2, shuffle=True, num_workers=4)\n",
        "\n",
        "val_ds = CacheDataset(data=val_files, transform=val_transforms, cache_rate=1.0, num_workers=4)\n",
        "#val_ds = Dataset(data=val_files, transform=val_transforms)\n",
        "val_loader = DataLoader(val_ds, batch_size=1, num_workers=4)"
      ]
    },
    {
      "cell_type": "markdown",
      "id": "1735b36d-f2de-4aa3-bbc0-eb4c453d12a4",
      "metadata": {
        "id": "1735b36d-f2de-4aa3-bbc0-eb4c453d12a4"
      },
      "source": [
        "## Create Model, Loss, Optimizer"
      ]
    },
    {
      "cell_type": "code",
      "execution_count": null,
      "id": "6655ebc0-2beb-41e3-bbb1-8b33c4f97ec8",
      "metadata": {
        "id": "6655ebc0-2beb-41e3-bbb1-8b33c4f97ec8"
      },
      "outputs": [],
      "source": [
        "# standard PyTorch program style: create UNet, DiceLoss and Adam optimizer\n",
        "device = torch.device(\"cpu\")\n",
        "model = UNet(\n",
        "    spatial_dims=3,\n",
        "    in_channels=1,\n",
        "    out_channels=2,\n",
        "    channels=(16, 32, 64, 128, 256),\n",
        "    strides=(2, 2, 2, 2),\n",
        "    num_res_units=2,\n",
        "    norm=Norm.BATCH,\n",
        ").to(device)\n",
        "loss_function = DiceLoss(to_onehot_y=True, softmax=True)\n",
        "optimizer = torch.optim.Adam(model.parameters(), 1e-4)\n",
        "dice_metric = DiceMetric(include_background=False, reduction=\"mean\")"
      ]
    },
    {
      "cell_type": "markdown",
      "id": "cf57cee2-3735-415a-ac26-d65b8ed67f20",
      "metadata": {
        "id": "cf57cee2-3735-415a-ac26-d65b8ed67f20"
      },
      "source": [
        "## Execute a typical PyTorch training process"
      ]
    },
    {
      "cell_type": "code",
      "execution_count": null,
      "id": "beef41f4-4755-4fb3-bbde-ee4b302f8f7e",
      "metadata": {
        "id": "beef41f4-4755-4fb3-bbde-ee4b302f8f7e"
      },
      "outputs": [],
      "source": [
        "max_epochs = 600\n",
        "val_interval = 2\n",
        "best_metric = -1\n",
        "best_metric_epoch = -1\n",
        "epoch_loss_values = []\n",
        "metric_values = []\n",
        "post_pred = Compose([AsDiscrete(argmax=True, to_onehot=2)])\n",
        "post_label = Compose([AsDiscrete(to_onehot=2)])\n",
        "root_dir = \"/root/dir/to/save/model/checkpoint/\"\n",
        "\n",
        "for epoch in range(max_epochs):\n",
        "    print(\"-\" * 10)\n",
        "    print(f\"epoch {epoch + 1}/{max_epochs}\")\n",
        "    model.train()\n",
        "    epoch_loss = 0\n",
        "    step = 0\n",
        "    for batch_data in train_loader:\n",
        "        step += 1\n",
        "        inputs, labels = (\n",
        "            batch_data[\"image\"].to(device),\n",
        "            batch_data[\"label\"].to(device),\n",
        "        )\n",
        "        optimizer.zero_grad()\n",
        "        outputs = model(inputs)\n",
        "\n",
        "        loss = loss_function(outputs, labels)\n",
        "        loss.backward()\n",
        "        optimizer.step()\n",
        "        epoch_loss += loss.item()\n",
        "        print(f\"{step}/{len(train_ds) // train_loader.batch_size}, \" f\"train_loss: {loss.item():.4f}\")\n",
        "    epoch_loss /= step\n",
        "    epoch_loss_values.append(epoch_loss)\n",
        "    print(f\"epoch {epoch + 1} average loss: {epoch_loss:.4f}\")\n",
        "\n",
        "    if (epoch + 1) % val_interval == 0:\n",
        "        model.eval()\n",
        "        with torch.no_grad():\n",
        "            for val_data in val_loader:\n",
        "                val_inputs, val_labels = (\n",
        "                    val_data[\"image\"].to(device),\n",
        "                    val_data[\"label\"].to(device),\n",
        "                )\n",
        "                roi_size = (160, 160, 160)\n",
        "                sw_batch_size = 4\n",
        "                val_outputs = sliding_window_inference(val_inputs, roi_size, sw_batch_size, model)\n",
        "                val_outputs = [post_pred(i) for i in decollate_batch(val_outputs)]\n",
        "                val_labels = [post_label(i) for i in decollate_batch(val_labels)]\n",
        "                # compute metric for current iteration\n",
        "                dice_metric(y_pred=val_outputs, y=val_labels)\n",
        "\n",
        "            # aggregate the final mean dice result\n",
        "            metric = dice_metric.aggregate().item()\n",
        "            # reset the status for next validation round\n",
        "            dice_metric.reset()\n",
        "\n",
        "            metric_values.append(metric)\n",
        "            if metric > best_metric:\n",
        "                best_metric = metric\n",
        "                best_metric_epoch = epoch + 1\n",
        "                torch.save(model.state_dict(), os.path.join(root_dir, \"best_metric_model_cleaned.pth\"))\n",
        "                print(\"saved new best metric model\")\n",
        "            print(\n",
        "                f\"current epoch: {epoch + 1} current mean dice: {metric:.4f}\"\n",
        "                f\"\\nbest mean dice: {best_metric:.4f} \"\n",
        "                f\"at epoch: {best_metric_epoch}\"\n",
        "            )"
      ]
    },
    {
      "cell_type": "code",
      "execution_count": null,
      "id": "e4e168cc-120c-4225-a2b4-e582efc12b37",
      "metadata": {
        "id": "e4e168cc-120c-4225-a2b4-e582efc12b37"
      },
      "outputs": [],
      "source": [
        "print(f\"train completed, best_metric: {best_metric:.4f} \" f\"at epoch: {best_metric_epoch}\")"
      ]
    },
    {
      "cell_type": "markdown",
      "id": "c7ba5362-f631-4618-aa98-2a4852bf9225",
      "metadata": {
        "id": "c7ba5362-f631-4618-aa98-2a4852bf9225"
      },
      "source": [
        "## Plot the loss and metric"
      ]
    },
    {
      "cell_type": "code",
      "execution_count": null,
      "id": "30cfdb83-61ab-4e07-894a-b0fd095f7ad7",
      "metadata": {
        "id": "30cfdb83-61ab-4e07-894a-b0fd095f7ad7",
        "outputId": "ad6d2b04-580b-4941-838d-bcf60dfb702e"
      },
      "outputs": [
        {
          "data": {
            "image/png": "[encoded data removed]",
            "text/plain": [
              "<Figure size 1200x600 with 2 Axes>"
            ]
          },
          "metadata": {},
          "output_type": "display_data"
        }
      ],
      "source": [
        "plt.figure(\"train\", (12, 6))\n",
        "plt.subplot(1, 2, 1)\n",
        "plt.title(\"Epoch Average Loss\")\n",
        "x = [i + 1 for i in range(len(epoch_loss_values))]\n",
        "y = epoch_loss_values\n",
        "plt.xlabel(\"epoch\")\n",
        "plt.plot(x, y)\n",
        "plt.subplot(1, 2, 2)\n",
        "plt.title(\"Val Mean Dice\")\n",
        "x = [val_interval * (i + 1) for i in range(len(metric_values))]\n",
        "y = metric_values\n",
        "plt.xlabel(\"epoch\")\n",
        "plt.plot(x, y)\n",
        "plt.show()"
      ]
    },
    {
      "cell_type": "markdown",
      "id": "30a845b7-e5bd-4134-9375-6bb8412cc731",
      "metadata": {
        "id": "30a845b7-e5bd-4134-9375-6bb8412cc731"
      },
      "source": [
        "## Check best model output with the input image and label"
      ]
    },
    {
      "cell_type": "code",
      "execution_count": null,
      "id": "a8ee9e3d-507c-4b38-83e5-f36f44a380db",
      "metadata": {
        "id": "a8ee9e3d-507c-4b38-83e5-f36f44a380db"
      },
      "outputs": [],
      "source": [
        "model.load_state_dict(torch.load(os.path.join(root_dir, \"best_metric_model.pth\"), weights_only=True))\n",
        "model.eval()\n",
        "with torch.no_grad():\n",
        "    for i, val_data in enumerate(val_loader):\n",
        "        roi_size = (160, 160, 160)\n",
        "        sw_batch_size = 4\n",
        "        val_outputs = sliding_window_inference(val_data[\"image\"].to(device), roi_size, sw_batch_size, model)\n",
        "        # plot the slice [:, :, 80]\n",
        "        plt.figure(\"check\", (18, 6))\n",
        "        plt.subplot(1, 3, 1)\n",
        "        plt.title(f\"image {i}\")\n",
        "        plt.imshow(val_data[\"image\"][0, 0, :, :, 80], cmap=\"gray\")\n",
        "        plt.subplot(1, 3, 2)\n",
        "        plt.title(f\"label {i}\")\n",
        "        plt.imshow(val_data[\"label\"][0, 0, :, :, 80])\n",
        "        plt.subplot(1, 3, 3)\n",
        "        plt.title(f\"output {i}\")\n",
        "        plt.imshow(torch.argmax(val_outputs, dim=1).detach().cpu()[0, :, :, 80])\n",
        "        plt.show()\n",
        "        if i == 2:\n",
        "            break"
      ]
    },
    {
      "cell_type": "markdown",
      "source": [
        "## Evaluation on original image spacings"
      ],
      "metadata": {
        "id": "6iMaRFCuc2mc"
      },
      "id": "6iMaRFCuc2mc"
    },
    {
      "cell_type": "code",
      "source": [
        "val_org_transforms = Compose(\n",
        "    [\n",
        "        LoadImaged(keys=[\"image\", \"label\"]),\n",
        "        EnsureChannelFirstd(keys=[\"image\", \"label\"]),\n",
        "        Orientationd(keys=[\"image\"], axcodes=\"RAS\"),\n",
        "        Spacingd(keys=[\"image\"], pixdim=(1.5, 1.5, 2.0), mode=\"bilinear\"),\n",
        "        ScaleIntensityRanged(\n",
        "            keys=[\"image\"],\n",
        "            a_min=0.0,\n",
        "            a_max=100.0,\n",
        "            b_min=0.0,\n",
        "            b_max=1.0,\n",
        "            clip=True,\n",
        "        ),\n",
        "        CropForegroundd(keys=[\"image\"], source_key=\"image\", allow_smaller=True),\n",
        "    ]\n",
        ")\n",
        "\n",
        "val_org_ds = Dataset(data=val_files, transform=val_org_transforms)\n",
        "val_org_loader = DataLoader(val_org_ds, batch_size=1, num_workers=4)\n",
        "\n",
        "post_transforms = Compose(\n",
        "    [\n",
        "        Invertd(\n",
        "            keys=\"pred\",\n",
        "            transform=val_org_transforms,\n",
        "            orig_keys=\"image\",\n",
        "            meta_keys=\"pred_meta_dict\",\n",
        "            orig_meta_keys=\"image_meta_dict\",\n",
        "            meta_key_postfix=\"meta_dict\",\n",
        "            nearest_interp=False,\n",
        "            to_tensor=True,\n",
        "            device=\"cpu\",\n",
        "        ),\n",
        "        AsDiscreted(keys=\"pred\", argmax=True, to_onehot=2),\n",
        "        AsDiscreted(keys=\"label\", to_onehot=2),\n",
        "    ]\n",
        ")"
      ],
      "metadata": {
        "id": "jJfBY2_wc3HF"
      },
      "id": "jJfBY2_wc3HF",
      "execution_count": null,
      "outputs": []
    },
    {
      "cell_type": "code",
      "source": [
        "model.load_state_dict(torch.load(os.path.join(root_dir, \"best_metric_model.pth\"), weights_only=True))\n",
        "model.eval()\n",
        "\n",
        "with torch.no_grad():\n",
        "    for val_data in val_org_loader:\n",
        "        val_inputs = val_data[\"image\"].to(device)\n",
        "        roi_size = (160, 160, 160)\n",
        "        sw_batch_size = 4\n",
        "        val_data[\"pred\"] = sliding_window_inference(val_inputs, roi_size, sw_batch_size, model)\n",
        "        val_data = [post_transforms(i) for i in decollate_batch(val_data)]\n",
        "        val_outputs, val_labels = from_engine([\"pred\", \"label\"])(val_data)\n",
        "        # compute metric for current iteration\n",
        "        dice_metric(y_pred=val_outputs, y=val_labels)\n",
        "\n",
        "    # aggregate the final mean dice result\n",
        "    metric_org = dice_metric.aggregate().item()\n",
        "    # reset the status for next validation round\n",
        "    dice_metric.reset()\n",
        "\n",
        "print(\"Metric on original image spacing: \", metric_org)"
      ],
      "metadata": {
        "id": "fIucSYO6dFje"
      },
      "id": "fIucSYO6dFje",
      "execution_count": null,
      "outputs": []
    },
    {
      "cell_type": "markdown",
      "source": [
        "## Inference on Test Set"
      ],
      "metadata": {
        "id": "z3eJtpGrdH7S"
      },
      "id": "z3eJtpGrdH7S"
    },
    {
      "cell_type": "code",
      "source": [
        "test_images = sorted(glob.glob(os.path.join(data_dir, \"imagesTs\", \"*.nii.gz\")))\n",
        "\n",
        "test_data = [{\"image\": image} for image in test_images]\n",
        "\n",
        "\n",
        "test_org_transforms = Compose(\n",
        "    [\n",
        "        LoadImaged(keys=\"image\"),\n",
        "        EnsureChannelFirstd(keys=\"image\"),\n",
        "        Orientationd(keys=[\"image\"], axcodes=\"RAS\"),\n",
        "        Spacingd(keys=[\"image\"], pixdim=(1.5, 1.5, 2.0), mode=\"bilinear\"),\n",
        "        ScaleIntensityRanged(\n",
        "            keys=[\"image\"],\n",
        "            a_min=-57,\n",
        "            a_max=164,\n",
        "            b_min=0.0,\n",
        "            b_max=1.0,\n",
        "            clip=True,\n",
        "        ),\n",
        "        CropForegroundd(keys=[\"image\"], source_key=\"image\", allow_smaller=True),\n",
        "    ]\n",
        ")\n",
        "\n",
        "test_org_ds = Dataset(data=test_data, transform=test_org_transforms)\n",
        "\n",
        "test_org_loader = DataLoader(test_org_ds, batch_size=1, num_workers=4)\n",
        "\n",
        "post_transforms = Compose(\n",
        "    [\n",
        "        Invertd(\n",
        "            keys=\"pred\",\n",
        "            transform=test_org_transforms,\n",
        "            orig_keys=\"image\",\n",
        "            meta_keys=\"pred_meta_dict\",\n",
        "            orig_meta_keys=\"image_meta_dict\",\n",
        "            meta_key_postfix=\"meta_dict\",\n",
        "            nearest_interp=False,\n",
        "            to_tensor=True,\n",
        "        ),\n",
        "        AsDiscreted(keys=\"pred\", argmax=True, to_onehot=2),\n",
        "        SaveImaged(keys=\"pred\", meta_keys=\"pred_meta_dict\", output_dir=\"./out\", output_postfix=\"seg\", resample=False),\n",
        "    ]\n",
        ")"
      ],
      "metadata": {
        "id": "4Bp4upAUdITD"
      },
      "id": "4Bp4upAUdITD",
      "execution_count": null,
      "outputs": []
    },
    {
      "cell_type": "code",
      "source": [
        "model.load_state_dict(torch.load(os.path.join(root_dir, \"best_metric_model.pth\"), weights_only=True))\n",
        "model.eval()\n",
        "\n",
        "with torch.no_grad():\n",
        "    for test_data in test_org_loader:\n",
        "        test_inputs = test_data[\"image\"].to(device)\n",
        "        roi_size = (160, 160, 160)\n",
        "        sw_batch_size = 4\n",
        "        test_data[\"pred\"] = sliding_window_inference(test_inputs, roi_size, sw_batch_size, model)\n",
        "\n",
        "        test_data = [post_transforms(i) for i in decollate_batch(test_data)]\n",
        "\n",
        "#         # uncomment the following lines to visualize the predicted results\n",
        "#         test_output = from_engine([\"pred\"])(test_data)\n",
        "\n",
        "#         original_image = loader(test_output[0].meta[\"filename_or_obj\"])\n",
        "\n",
        "#         plt.figure(\"check\", (18, 6))\n",
        "#         plt.subplot(1, 2, 1)\n",
        "#         plt.imshow(original_image[:, :, 20], cmap=\"gray\")\n",
        "#         plt.subplot(1, 2, 2)\n",
        "#         plt.imshow(test_output[0].detach().cpu()[1, :, :, 20])\n",
        "#         plt.show()"
      ],
      "metadata": {
        "id": "sfTuoHxodMsI"
      },
      "id": "sfTuoHxodMsI",
      "execution_count": null,
      "outputs": []
    },
    {
      "cell_type": "markdown",
      "source": [
        "## Cleanup data directory\n"
      ],
      "metadata": {
        "id": "vyrYxbzxdPOV"
      },
      "id": "vyrYxbzxdPOV"
    },
    {
      "cell_type": "code",
      "source": [
        "if directory is None:\n",
        "    shutil.rmtree(root_dir)"
      ],
      "metadata": {
        "id": "JYyNxaMYdPgK"
      },
      "id": "JYyNxaMYdPgK",
      "execution_count": null,
      "outputs": []
    }
  ],
  "metadata": {
    "kernelspec": {
      "display_name": "Python [conda env:base] *",
      "language": "python",
      "name": "conda-base-py"
    },
    "language_info": {
      "codemirror_mode": {
        "name": "ipython",
        "version": 3
      },
      "file_extension": ".py",
      "mimetype": "text/x-python",
      "name": "python",
      "nbconvert_exporter": "python",
      "pygments_lexer": "ipython3",
      "version": "3.12.7"
    },
    "colab": {
      "provenance": [],
      "include_colab_link": true
    }
  },
  "nbformat": 4,
  "nbformat_minor": 5
}